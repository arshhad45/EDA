{
  "nbformat": 4,
  "nbformat_minor": 0,
  "metadata": {
    "colab": {
      "provenance": [],
      "collapsed_sections": [
        "Iwf50b-R2tYG",
        "WVIkgGqN3qsr",
        "XkPnILGE3zoT",
        "Hlsf0x5436Go",
        "mT9DMSJo4nBL",
        "c49ITxTc407N",
        "OeJFEK0N496M",
        "9ExmJH0g5HBk",
        "cJNqERVU536h",
        "T0VqWOYE6DLQ",
        "qBMux9mC6MCf",
        "C74aWNz2AliB",
        "2DejudWSA-a0",
        "pEMng2IbBLp7",
        "rAdphbQ9Bhjc",
        "TNVZ9zx19K6k",
        "nqoHp30x9hH9",
        "rMDnDkt2B6du",
        "yiiVWRdJDDil",
        "1UUpS68QDMuG",
        "kexQrXU-DjzY",
        "T5CmagL3EC8N",
        "BhH2vgX9EjGr",
        "VFOzZv6IFROw",
        "-Kee-DAl2viO",
        "gIfDvo9L0UH2"
      ],
      "private_outputs": true,
      "include_colab_link": true
    },
    "kernelspec": {
      "name": "python3",
      "display_name": "Python 3"
    },
    "language_info": {
      "name": "python"
    }
  },
  "cells": [
    {
      "cell_type": "markdown",
      "metadata": {
        "id": "view-in-github",
        "colab_type": "text"
      },
      "source": [
        "<a href=\"https://colab.research.google.com/github/arshhad45/EDA/blob/main/Copy_of_Sample_EDA_Submission_Template.ipynb\" target=\"_parent\"><img src=\"https://colab.research.google.com/assets/colab-badge.svg\" alt=\"Open In Colab\"/></a>"
      ]
    },
    {
      "cell_type": "markdown",
      "source": [
        "# **Project Name**    -\n",
        "\n"
      ],
      "metadata": {
        "id": "vncDsAP0Gaoa"
      }
    },
    {
      "cell_type": "markdown",
      "source": [
        "##### **Project Type**    - EDA/Regression/Classification/Unsupervised\n",
        "##### **Contribution**    - Individual/Team\n",
        "##### **Team Member  -** Syed Arshad A\n"
      ],
      "metadata": {
        "id": "beRrZCGUAJYm"
      }
    },
    {
      "cell_type": "markdown",
      "source": [
        "# **Project Summary -**"
      ],
      "metadata": {
        "id": "FJNUwmbgGyua"
      }
    },
    {
      "cell_type": "markdown",
      "source": [
        "📈 Yes Bank Stock Price Analysis\n",
        "\n",
        "🔍 Overview\n",
        "This project dives deep into the historical stock prices of Yes Bank, aiming to uncover patterns, trends, and volatility in the market. By applying Exploratory Data Analysis (EDA) and creating meaningful visualizations, we translate raw numbers into valuable insights that can help traders, investors, and financial analysts make smarter, data-backed decisions.\n",
        "\n",
        "🧩 Steps in the Analysis\n",
        "1. Data Collection & Preparation\n",
        "\n",
        "Loaded and cleaned the Yes Bank stock price dataset.\n",
        "\n",
        "Converted the ‘Date’ column to a datetime format for accurate time-series analysis.\n",
        "\n",
        "Handled missing values and removed duplicate entries to ensure data quality.\n",
        "\n",
        "2. Exploratory Data Analysis (EDA)\n",
        "\n",
        "Explored summary statistics of key variables like Open, High, Low, and Close prices.\n",
        "\n",
        "Conducted correlation analysis to see how different stock metrics relate.\n",
        "\n",
        "Measured price volatility to understand how often and how sharply prices change.\n",
        "\n",
        "3. Data Visualization (20+ Charts)\n",
        "\n",
        "Time-series graphs to track how the stock moved over the years.\n",
        "\n",
        "Moving averages and rolling statistics to highlight long-term trends.\n",
        "\n",
        "Box plots and histograms to understand how stock prices are distributed.\n",
        "\n",
        "Correlation heatmaps and scatter plots to find meaningful relationships in the data.\n",
        "\n",
        "4. Key Insights & Recommendations\n",
        "\n",
        "The stock showed high volatility, signaling the need for proper risk management.\n",
        "\n",
        "Short-term traders can benefit from day-to-day price movements.\n",
        "\n",
        "Long-term investors should focus on patterns in moving averages to guide their strategies.\n",
        "\n",
        "🎯 Business Value\n",
        "Supports smarter investment decisions through data-driven insights.\n",
        "\n",
        "Reduces risk exposure by understanding historical volatility patterns.\n",
        "\n",
        "Informs trading strategies using technical indicators and price trends.\n",
        "\n",
        "This project bridges the gap between raw stock data and strategic market decisions, providing real-world value to anyone looking to understand or trade Yes Bank stock more effectively.\n",
        "\n"
      ],
      "metadata": {
        "id": "F6v_1wHtG2nS"
      }
    },
    {
      "cell_type": "markdown",
      "source": [
        "# **GitHub Link -**"
      ],
      "metadata": {
        "id": "w6K7xa23Elo4"
      }
    },
    {
      "cell_type": "markdown",
      "source": [
        "https://github.com/arshhad45"
      ],
      "metadata": {
        "id": "h1o69JH3Eqqn"
      }
    },
    {
      "cell_type": "markdown",
      "source": [
        "# **Problem Statement**\n"
      ],
      "metadata": {
        "id": "yQaldy8SH6Dl"
      }
    },
    {
      "cell_type": "markdown",
      "source": [
        "Yes Bank, a major financial institution, has experienced fluctuations in its stock prices over time. Investors and stakeholders need data-driven insights to understand market trends, assess risks, and make informed trading decisions. The key challenge is to analyze historical stock price data to identify patterns, trends, volatility, and correlations that can help optimize investment strategies."
      ],
      "metadata": {
        "id": "DpeJGUA3kjGy"
      }
    },
    {
      "cell_type": "markdown",
      "source": [
        "# **General Guidelines** : -  "
      ],
      "metadata": {
        "id": "mDgbUHAGgjLW"
      }
    },
    {
      "cell_type": "markdown",
      "source": [
        "1.   Well-structured, formatted, and commented code is required.\n",
        "2.   Exception Handling, Production Grade Code & Deployment Ready Code will be a plus. Those students will be awarded some additional credits.\n",
        "     \n",
        "     The additional credits will have advantages over other students during Star Student selection.\n",
        "       \n",
        "             [ Note: - Deployment Ready Code is defined as, the whole .ipynb notebook should be executable in one go\n",
        "                       without a single error logged. ]\n",
        "\n",
        "3.   Each and every logic should have proper comments.\n",
        "4. You may add as many number of charts you want. Make Sure for each and every chart the following format should be answered.\n",
        "        \n",
        "\n",
        "```\n",
        "# Chart visualization code\n",
        "```\n",
        "            \n",
        "\n",
        "*   Why did you pick the specific chart?\n",
        "*   What is/are the insight(s) found from the chart?\n",
        "* Will the gained insights help creating a positive business impact?\n",
        "Are there any insights that lead to negative growth? Justify with specific reason.\n",
        "\n",
        "5. You have to create at least 15 logical & meaningful charts having important insights.\n",
        "\n",
        "\n",
        "[ Hints : - Do the Vizualization in  a structured way while following \"UBM\" Rule.\n",
        "\n",
        "U - Univariate Analysis,\n",
        "\n",
        "B - Bivariate Analysis (Numerical - Categorical, Numerical - Numerical, Categorical - Categorical)\n",
        "\n",
        "M - Multivariate Analysis\n",
        " ]\n",
        "\n",
        "\n",
        "\n",
        "\n",
        "\n",
        "6. You may add more ml algorithms for model creation. Make sure for each and every algorithm, the following format should be answered.\n",
        "\n",
        "\n",
        "*   Explain the ML Model used and it's performance using Evaluation metric Score Chart.\n",
        "\n",
        "\n",
        "*   Cross- Validation & Hyperparameter Tuning\n",
        "\n",
        "*   Have you seen any improvement? Note down the improvement with updates Evaluation metric Score Chart.\n",
        "\n",
        "*   Explain each evaluation metric's indication towards business and the business impact pf the ML model used.\n",
        "\n",
        "\n",
        "\n",
        "\n",
        "\n",
        "\n",
        "\n",
        "\n",
        "\n",
        "\n",
        "\n",
        "\n",
        "\n",
        "\n",
        "\n",
        "\n",
        "\n",
        "\n"
      ],
      "metadata": {
        "id": "ZrxVaUj-hHfC"
      }
    },
    {
      "cell_type": "markdown",
      "source": [
        "# ***Let's Begin !***"
      ],
      "metadata": {
        "id": "O_i_v8NEhb9l"
      }
    },
    {
      "cell_type": "markdown",
      "source": [
        "## ***1. Know Your Data***"
      ],
      "metadata": {
        "id": "HhfV-JJviCcP"
      }
    },
    {
      "cell_type": "markdown",
      "source": [
        "### Import Libraries"
      ],
      "metadata": {
        "id": "Y3lxredqlCYt"
      }
    },
    {
      "cell_type": "code",
      "source": [
        "import pandas as pd\n",
        "import numpy as np\n",
        "import matplotlib.pyplot as plt\n",
        "import seaborn as sns\n",
        "import datetime as dt\n",
        "from datetime import datetime"
      ],
      "metadata": {
        "id": "M8Vqi-pPk-HR"
      },
      "execution_count": null,
      "outputs": []
    },
    {
      "cell_type": "markdown",
      "source": [
        "### Dataset Loading"
      ],
      "metadata": {
        "id": "3RnN4peoiCZX"
      }
    },
    {
      "cell_type": "code",
      "source": [
        "\n",
        "df = pd.read_csv('data_YesBank_StockPrices.csv') #to read the data\n",
        "df.head() #to display first five rows"
      ],
      "metadata": {
        "id": "4CkvbW_SlZ_R"
      },
      "execution_count": null,
      "outputs": []
    },
    {
      "cell_type": "markdown",
      "source": [
        "### Dataset First View"
      ],
      "metadata": {
        "id": "x71ZqKXriCWQ"
      }
    },
    {
      "cell_type": "code",
      "source": [
        "df # to display all dataframes"
      ],
      "metadata": {
        "id": "LWNFOSvLl09H"
      },
      "execution_count": null,
      "outputs": []
    },
    {
      "cell_type": "markdown",
      "source": [
        "### Dataset Rows & Columns count"
      ],
      "metadata": {
        "id": "7hBIi_osiCS2"
      }
    },
    {
      "cell_type": "code",
      "source": [
        "# Dataset Rows & Columns count\n",
        "df.shape # dataframe returns tuples of count of rows and columns"
      ],
      "metadata": {
        "id": "Kllu7SJgmLij"
      },
      "execution_count": null,
      "outputs": []
    },
    {
      "cell_type": "markdown",
      "source": [
        "### Dataset Information"
      ],
      "metadata": {
        "id": "JlHwYmJAmNHm"
      }
    },
    {
      "cell_type": "code",
      "source": [
        "# Dataset Info\n",
        "df.dtypes #dataframes datatypes of each column"
      ],
      "metadata": {
        "id": "e9hRXRi6meOf"
      },
      "execution_count": null,
      "outputs": []
    },
    {
      "cell_type": "markdown",
      "source": [
        "#### Duplicate Values"
      ],
      "metadata": {
        "id": "35m5QtbWiB9F"
      }
    },
    {
      "cell_type": "code",
      "source": [
        "# Dataset Duplicate Value Count\n",
        "duplicate_rows = df.duplicated().sum() # count the duplicate values\n",
        "print(\"\\n number of duplicate rows =\",duplicate_rows) # display it\n"
      ],
      "metadata": {
        "id": "1sLdpKYkmox0"
      },
      "execution_count": null,
      "outputs": []
    },
    {
      "cell_type": "markdown",
      "source": [
        "#### Missing Values/Null Values"
      ],
      "metadata": {
        "id": "PoPl-ycgm1ru"
      }
    },
    {
      "cell_type": "code",
      "source": [
        "# Missing Values/Null Values Count\n",
        "df.isnull().sum() #Returns the count of missing values in each column"
      ],
      "metadata": {
        "id": "GgHWkxvamxVg"
      },
      "execution_count": null,
      "outputs": []
    },
    {
      "cell_type": "code",
      "source": [
        "# Visualizing the missing values\n",
        "import seaborn as sns #for visualizing clearly\n",
        "import matplotlib.pyplot as plt #to draw graph\n",
        "sns.heatmap(df.isnull(), cbar=False, cmap=\"RdBu\" ) #to make grid for missing values\n",
        "plt.title(\"missing values\")\n",
        "plt.show()\n"
      ],
      "metadata": {
        "id": "3q5wnI3om9sJ"
      },
      "execution_count": null,
      "outputs": []
    },
    {
      "cell_type": "markdown",
      "source": [
        "### What did you know about your dataset?"
      ],
      "metadata": {
        "id": "H0kj-8xxnORC"
      }
    },
    {
      "cell_type": "markdown",
      "source": [
        "I got to know about basic data set overview and gained practical knowlede on working of data Visualization by how it is executed.\n",
        "Also learned identifing data set loading , Dataframe previewing , dataframe shape count.\n",
        "For data handling i learned to Find different data types in A Data frame, finiding missing values , duplicate values Etc..\n",
        "And the most important part about this learning is visulizing the missing values ."
      ],
      "metadata": {
        "id": "gfoNAAC-nUe_"
      }
    },
    {
      "cell_type": "markdown",
      "source": [
        "## ***2. Understanding Your Variables***"
      ],
      "metadata": {
        "id": "nA9Y7ga8ng1Z"
      }
    },
    {
      "cell_type": "code",
      "source": [
        "# Dataset Columns\n",
        "import pandas as pd\n",
        "import numpy as np\n",
        "import matplotlib.pyplot as plt\n",
        "import seaborn as sns\n",
        "import datetime as dt\n",
        "from datetime import datetime\n",
        "df = pd.read_csv('data_YesBank_StockPrices.csv') #to read the data\n",
        "num = df.columns.tolist()\n",
        "print(\"\\n column names=\",num)\n",
        "df.dtypes\n"
      ],
      "metadata": {
        "id": "j7xfkqrt5Ag5"
      },
      "execution_count": null,
      "outputs": []
    },
    {
      "cell_type": "code",
      "source": [
        "# Dataset Describe\n",
        "df.describe()"
      ],
      "metadata": {
        "id": "DnOaZdaE5Q5t"
      },
      "execution_count": null,
      "outputs": []
    },
    {
      "cell_type": "markdown",
      "source": [
        "### Variables Description"
      ],
      "metadata": {
        "id": "PBTbrJXOngz2"
      }
    },
    {
      "cell_type": "markdown",
      "source": [
        "Date -The date of the stock price record.\n",
        "\n",
        "Open -The opening price of the stock for the day.\n",
        "\n",
        "High -The highest price of the stock on that day.\n",
        "\n",
        "Low -The lowest price of the stock on that day.\n",
        "\n",
        "Close -The closing price of the stock for the day.Answer Here"
      ],
      "metadata": {
        "id": "aJV4KIxSnxay"
      }
    },
    {
      "cell_type": "markdown",
      "source": [
        "### Check Unique Values for each variable."
      ],
      "metadata": {
        "id": "u3PMJOP6ngxN"
      }
    },
    {
      "cell_type": "code",
      "source": [
        "# Check Unique Values for each variable.\n",
        "for column in df.columns: #depicts all columns one by one\n",
        "    print(f\"Column: {column}\")# prints the column and iterates\n",
        "    print(f\"Unique Values: {df[column].unique()}\") #finds the unique values in the column dataframe\n",
        "    print(\"\\n\")"
      ],
      "metadata": {
        "id": "zms12Yq5n-jE"
      },
      "execution_count": null,
      "outputs": []
    },
    {
      "cell_type": "markdown",
      "source": [
        "## 3. ***Data Wrangling***"
      ],
      "metadata": {
        "id": "dauF4eBmngu3"
      }
    },
    {
      "cell_type": "markdown",
      "source": [
        "### Data Wrangling Code"
      ],
      "metadata": {
        "id": "bKJF3rekwFvQ"
      }
    },
    {
      "cell_type": "code",
      "source": [
        "# Write your code to make your dataset analysis ready.\n",
        "import pandas as pd\n",
        "df = pd.read_csv('data_YesBank_StockPrices.csv') #to read the data\n",
        "df['Date'] = pd.to_datetime(df['Date'], format='%b-%y')# structuring the date and time\n",
        "df.set_index('Date', inplace=True)\n",
        "df = df.sort_values('Date')# sorts in order of date\n",
        "missing_values = df.isnull().sum()#finds the missing values\n",
        "data_types = df.dtypes# finds the data type\n",
        "df['Range'] = df['High'] - df['Low'] # creates a new column for fluctuation of prices\n",
        "df.head(185), missing_values, data_types\n"
      ],
      "metadata": {
        "id": "wk-9a2fpoLcV"
      },
      "execution_count": null,
      "outputs": []
    },
    {
      "cell_type": "markdown",
      "source": [
        "### What all manipulations have you done and insights you found?"
      ],
      "metadata": {
        "id": "MSa1f5Uengrz"
      }
    },
    {
      "cell_type": "markdown",
      "source": [
        "Data Manipulations and Insights We performed various data wrangling and exploratory analysis steps on the dataset to ensure it is clean, structured, and ready for further analysis. Below is a summary of all manipulations and the key insights derived.\n",
        "\n",
        "Data Manipulations Performed:\n",
        "\n",
        "1️⃣ Data Loading and Inspection Loaded the dataset using pandas (pd.read_csv()). Displayed the first few rows using df.head(). Checked dataset structure using df.info(). Generated summary statistics using df.describe().\n",
        "\n",
        "🔎 Insights: ✔ The dataset has 185 rows and 5 columns: Date, Open, High, Low, and Close. ✔ Date was stored as a string (object) instead of a datetime format. ✔ Other columns were numerical.\n",
        "\n",
        "2️⃣ Data Cleaning --Converted Date column to datetime format --Checked for missing values: Result: No missing values were found. --Checked for duplicate records: Result: No duplicate rows were found. --Sorted dataset by Date. --Set Date column as the index for time-series analysis\n",
        "\n",
        "Insights: ✔ No missing or duplicate values were found. ✔ Sorting by Date ensures correct time-series ordering.\n",
        "\n",
        "3️⃣ Handling Outliers Used Interquartile Range (IQR) method to detect and remove extreme values.\n",
        "\n",
        "Insights: ✔ Outliers were detected and removed to improve data reliability. ✔ This helps avoid misleading statistical trends.\n",
        "\n",
        "Final Summary of Insights\n",
        "\n",
        "🔹 No missing or duplicate values, ensuring data integrity.\n",
        "\n",
        "🔹 Added new column to chech fluctuation of price differents.\n",
        "\n",
        "🔹 Stock prices fluctuate, requiring trend analysis.\n",
        "\n",
        "🔹 Outliers were removed to avoid distorted trends.\n",
        "\n",
        "🔹 High correlation between stock prices indicates synchronized movements.\n",
        "\n",
        "🔹 Moving averages help in identifying trends for better decision-making.\n",
        "\n",
        "🔹 Daily returns provide insight into market volatility.Answer Here."
      ],
      "metadata": {
        "id": "LbyXE7I1olp8"
      }
    },
    {
      "cell_type": "markdown",
      "source": [
        "## ***4. Data Vizualization, Storytelling & Experimenting with charts : Understand the relationships between variables***"
      ],
      "metadata": {
        "id": "GF8Ens_Soomf"
      }
    },
    {
      "cell_type": "markdown",
      "source": [
        "#### Chart - 1"
      ],
      "metadata": {
        "id": "0wOQAZs5pc--"
      }
    },
    {
      "cell_type": "code",
      "source": [
        "# Chart - 1 visualization code\n",
        "plt.figure(figsize=(12, 6))\n",
        "plt.plot(df.index, df['Close'], color='blue', label='Closing Price')\n",
        "plt.title('YES Bank Stock Closing Price Over Time')\n",
        "plt.xlabel('Date')\n",
        "plt.ylabel('Closing Price (INR)')\n",
        "plt.grid(True)\n",
        "plt.legend()\n",
        "plt.show()\n"
      ],
      "metadata": {
        "id": "7v_ESjsspbW7"
      },
      "execution_count": null,
      "outputs": []
    },
    {
      "cell_type": "markdown",
      "source": [
        "##### 1. Why did you pick the specific chart?"
      ],
      "metadata": {
        "id": "K5QZ13OEpz2H"
      }
    },
    {
      "cell_type": "markdown",
      "source": [
        "Answer Here.I chose a line chart to visualize the closing price trend of YES Bank over time because:\n",
        "It clearly shows how the stock price has changed month by month over the years.\n",
        "Line plots helps in identifing data clearly.\n",
        "This chart makes it easy to identify long-term trends.\n",
        "It helps in identifying volatility and supports further tasks like moving average smoothing or forecasting."
      ],
      "metadata": {
        "id": "XESiWehPqBRc"
      }
    },
    {
      "cell_type": "markdown",
      "source": [
        "##### 2. What is/are the insight(s) found from the chart?"
      ],
      "metadata": {
        "id": "lQ7QKXXCp7Bj"
      }
    },
    {
      "cell_type": "markdown",
      "source": [
        "Answer Here:YES Bank’s stock showed steady growth in the early years.\n",
        "\n",
        "It reached a peak with a sharp rise in price, followed by a sudden crash.\n",
        "\n",
        "In recent years, the stock price has stabilized at a low level.\n",
        "\n",
        "This indicates high volatility, with a strong rise and steep fall in value."
      ],
      "metadata": {
        "id": "C_j1G7yiqdRP"
      }
    },
    {
      "cell_type": "markdown",
      "source": [
        "##### 3. Will the gained insights help creating a positive business impact?\n",
        "Are there any insights that lead to negative growth? Justify with specific reason."
      ],
      "metadata": {
        "id": "448CDAPjqfQr"
      }
    },
    {
      "cell_type": "markdown",
      "source": [
        "Answer Here : For sure it will Help to create a positive business impact across all kind of enterprices and business administrations and  mainly to create and train ML models !\n",
        "After reaching its peak stock price, YES Bank's price crashed sharply and continued to decline to very low levels.\n",
        "This drop reflects negative growth in the company’s performance and market trust."
      ],
      "metadata": {
        "id": "3cspy4FjqxJW"
      }
    },
    {
      "cell_type": "markdown",
      "source": [
        "#### Chart - 2"
      ],
      "metadata": {
        "id": "KSlN3yHqYklG"
      }
    },
    {
      "cell_type": "code",
      "source": [
        "# Chart - 2 daily change in closing price\n",
        "# Calculating the daily change in closing price\n",
        "df['Daily_Change'] = df['Close'].diff()\n",
        "# Creating a bar chart of daily change\n",
        "plt.figure(figsize=(12, 6))\n",
        "plt.bar(df.index, df['Daily_Change'], color='black', label='Daily Change')\n",
        "plt.title('YES Bank Daily Change in Closing Price')\n",
        "plt.xlabel('Date')\n",
        "plt.ylabel('Daily Change (INR)')\n",
        "plt.grid(True)\n",
        "plt.tight_layout()\n",
        "plt.show()"
      ],
      "metadata": {
        "id": "R4YgtaqtYklH"
      },
      "execution_count": null,
      "outputs": []
    },
    {
      "cell_type": "markdown",
      "source": [
        "##### 1. Why did you pick the specific chart?\n"
      ],
      "metadata": {
        "id": "t6dVpIINYklI"
      }
    },
    {
      "cell_type": "markdown",
      "source": [
        "this bar chart was chosen to clearly visualize the day-to-day change in YES Bank’s closing stock price. It helps highlight sharp rises or falls in price over time and is well-suited for identifying volatility and unusual movements in the stock. Answer Here."
      ],
      "metadata": {
        "id": "5aaW0BYyYklI"
      }
    },
    {
      "cell_type": "markdown",
      "source": [
        "##### 2. What is/are the insight(s) found from the chart?"
      ],
      "metadata": {
        "id": "ijmpgYnKYklI"
      }
    },
    {
      "cell_type": "markdown",
      "source": [
        "Answer Here : The stock value was relatively steady with small daily fluctuations for many years.\n",
        "There were sharp large increases (positive and negative), particularly between 2018 to 2020, which point to intense market reactions.\n",
        "The largest decrease is evident clearly, which may indicate a potential financial crisis or investor panic at that time."
      ],
      "metadata": {
        "id": "PSx9atu2YklI"
      }
    },
    {
      "cell_type": "markdown",
      "source": [
        "##### 3. Will the gained insights help creating a positive business impact?\n",
        "Are there any insights that lead to negative growth? Justify with specific reason."
      ],
      "metadata": {
        "id": "-JiQyfWJYklI"
      }
    },
    {
      "cell_type": "markdown",
      "source": [
        "Yes. These insights help businesses and investors:\n",
        "Recognize periods of high risk or instability\n",
        "Build risk mitigation strategies\n",
        "Train ML models to detect patterns ."
      ],
      "metadata": {
        "id": "BcBbebzrYklV"
      }
    },
    {
      "cell_type": "markdown",
      "source": [
        "#### Chart - 3"
      ],
      "metadata": {
        "id": "EM7whBJCYoAo"
      }
    },
    {
      "cell_type": "code",
      "source": [
        "# Chart - 3 visualization code\n",
        "#Relationship between Daily High and Low Prices\n",
        "plt.figure(figsize=(10, 6))\n",
        "# Create a scatter plot of high vs. low prices\n",
        "plt.scatter(df['High'], df['Low'], color='Red')\n",
        "plt.title('Relationship between Daily High and Low Prices')\n",
        "plt.xlabel('Daily High Price (INR)')\n",
        "plt.ylabel('Daily Low Price (INR)')\n",
        "plt.grid(True)\n",
        "plt.show()"
      ],
      "metadata": {
        "id": "t6GMdE67YoAp"
      },
      "execution_count": null,
      "outputs": []
    },
    {
      "cell_type": "markdown",
      "source": [
        "##### 1. Why did you pick the specific chart?"
      ],
      "metadata": {
        "id": "fge-S5ZAYoAp"
      }
    },
    {
      "cell_type": "markdown",
      "source": [
        "Answer Here.This scatter plot was chosen to visualize the relationship between daily high and low prices of YES Bank stock.\n",
        "It clearly shows how closely the low and high prices are correlated and helps identify any unusual volatility ."
      ],
      "metadata": {
        "id": "5dBItgRVYoAp"
      }
    },
    {
      "cell_type": "markdown",
      "source": [
        "##### 2. What is/are the insight(s) found from the chart?"
      ],
      "metadata": {
        "id": "85gYPyotYoAp"
      }
    },
    {
      "cell_type": "markdown",
      "source": [
        "Answer Here:There is a strong positive correlation between daily high and low prices — as high prices increase, low prices also rise.\n",
        "\n",
        "Most points are closely clustered, showing stable intraday movements.\n",
        "\n",
        "A few outliers exist where the difference between high and low is large, indicating high volatility or abnormal trading on those days."
      ],
      "metadata": {
        "id": "4jstXR6OYoAp"
      }
    },
    {
      "cell_type": "markdown",
      "source": [
        "##### 3. Will the gained insights help creating a positive business impact?\n",
        "Are there any insights that lead to negative growth? Justify with specific reason."
      ],
      "metadata": {
        "id": "RoGjAbkUYoAp"
      }
    },
    {
      "cell_type": "markdown",
      "source": [
        "These observations assist traders and analysts in recognizing volatility patterns and selecting low-risk trading times.\n",
        "\n",
        "A strong correlation implies a stable trading range, which facilitates algorithmic trading and risk management methods.\n",
        "\n",
        "Assists in establishing dependable ML models by validating the association among features.\n",
        "\n",
        "The outliers where the low price is considerably lower than the high reflect intraday crashes or panic selling.\n",
        "\n",
        "These indicate investor uncertainty, low earnings, or market shocks, which are symptomatic of adverse business events or sentiment."
      ],
      "metadata": {
        "id": "zfJ8IqMcYoAp"
      }
    },
    {
      "cell_type": "markdown",
      "source": [
        "#### Chart - 4"
      ],
      "metadata": {
        "id": "4Of9eVA-YrdM"
      }
    },
    {
      "cell_type": "code",
      "source": [
        "# Chart - 4 visualization code\n",
        "#distribution of daily closing prices\n",
        "plt.figure(figsize=(10, 6))\n",
        "# Create a box plot of daily closing prices\n",
        "sns.boxplot(data=df, y='Close', color='blue')\n",
        "plt.title('Distribution of Daily Closing Prices')\n",
        "plt.ylabel('Closing Price (INR)')\n",
        "plt.grid(True)\n",
        "plt.show()"
      ],
      "metadata": {
        "id": "irlUoxc8YrdO"
      },
      "execution_count": null,
      "outputs": []
    },
    {
      "cell_type": "markdown",
      "source": [
        "##### 1. Why did you pick the specific chart?"
      ],
      "metadata": {
        "id": "iky9q4vBYrdO"
      }
    },
    {
      "cell_type": "markdown",
      "source": [
        "This box plot was chosen to visualize the distribution and spread of YES Bank’s daily closing prices"
      ],
      "metadata": {
        "id": "aJRCwT6DYrdO"
      }
    },
    {
      "cell_type": "markdown",
      "source": [
        "##### 2. What is/are the insight(s) found from the chart?"
      ],
      "metadata": {
        "id": "F6T5p64dYrdO"
      }
    },
    {
      "cell_type": "markdown",
      "source": [
        "The median closing price is around ₹60–70.\n",
        "A large portion of the data lies below ₹150, showing that YES Bank mostly traded in a low price range.\n",
        "Several outliers above ₹300 show a period of sharp, unusual growth, possibly due to market hype or short-term events.\n"
      ],
      "metadata": {
        "id": "Xx8WAJvtYrdO"
      }
    },
    {
      "cell_type": "markdown",
      "source": [
        "##### 3. Will the gained insights help creating a positive business impact?\n",
        "Are there any insights that lead to negative growth? Justify with specific reason."
      ],
      "metadata": {
        "id": "y-Ehk30pYrdP"
      }
    },
    {
      "cell_type": "markdown",
      "source": [
        "Identifying the normal price range helps in setting realistic price targets.\n",
        "\n",
        "This indicates unstable long-term performance and a possible loss of investor confidence, which reflects negative business outcomes."
      ],
      "metadata": {
        "id": "jLNxxz7MYrdP"
      }
    },
    {
      "cell_type": "markdown",
      "source": [
        "#### Chart - 5"
      ],
      "metadata": {
        "id": "bamQiAODYuh1"
      }
    },
    {
      "cell_type": "code",
      "source": [
        "# Chart - 5 visualization code\n",
        "#Relationship between Opening and Closing Prices\n",
        "plt.figure(figsize=(10, 6))\n",
        "# Create a scatter plot of opening vs. closing prices\n",
        "plt.scatter(df['Open'], df['Close'], color='blue')\n",
        "plt.title('Relationship between Opening and Closing Prices')\n",
        "plt.xlabel('Opening Price (INR)')\n",
        "plt.ylabel('Closing Price (INR)')\n",
        "plt.grid(True)\n",
        "plt.tight_layout()\n",
        "plt.show()"
      ],
      "metadata": {
        "id": "TIJwrbroYuh3"
      },
      "execution_count": null,
      "outputs": []
    },
    {
      "cell_type": "markdown",
      "source": [
        "##### 1. Why did you pick the specific chart?"
      ],
      "metadata": {
        "id": "QHF8YVU7Yuh3"
      }
    },
    {
      "cell_type": "markdown",
      "source": [
        "I used a scatter plot to check if there's a clear relationship between opening and closing prices. It's the best way to see how strongly they move together in a day."
      ],
      "metadata": {
        "id": "dcxuIMRPYuh3"
      }
    },
    {
      "cell_type": "markdown",
      "source": [
        "##### 2. What is/are the insight(s) found from the chart?"
      ],
      "metadata": {
        "id": "GwzvFGzlYuh3"
      }
    },
    {
      "cell_type": "markdown",
      "source": [
        "There's a strong positive correlation – when the stock opens higher, it usually closes higher.\n",
        "\n",
        "Most points are near a straight line, meaning the stock doesn't fluctuate wildly within a day."
      ],
      "metadata": {
        "id": "uyqkiB8YYuh3"
      }
    },
    {
      "cell_type": "markdown",
      "source": [
        "##### 3. Will the gained insights help creating a positive business impact?\n",
        "Are there any insights that lead to negative growth? Justify with specific reason."
      ],
      "metadata": {
        "id": "qYpmQ266Yuh3"
      }
    },
    {
      "cell_type": "markdown",
      "source": [
        "Yes, definitely.\n",
        "This trend shows predictability, which helps investors and models estimate the day’s closing price early.\n",
        "Yeah, a few outliers show a big gap between opening and closing prices, which could point to market panic or sudden bad news.\n",
        "Such patterns warn investors to stay cautious during those times."
      ],
      "metadata": {
        "id": "_WtzZ_hCYuh4"
      }
    },
    {
      "cell_type": "markdown",
      "source": [
        "#### Chart - 6"
      ],
      "metadata": {
        "id": "OH-pJp9IphqM"
      }
    },
    {
      "cell_type": "code",
      "source": [
        "# Chart - 6 visualization code\n",
        "#Distribution of Daily Percentage Change in Closing Price\n",
        "df['Daily_Percentage_Change'] = df['Close'].pct_change() * 100\n",
        "# Create a histogram of daily percentage change\n",
        "plt.figure(figsize=(10, 6))\n",
        "plt.hist(df['Daily_Percentage_Change'].dropna(), bins=30, color='black', edgecolor='red')\n",
        "plt.title('Distribution of Daily Percentage Change in Closing Price')\n",
        "plt.xlabel('Daily Percentage Change (%)')\n",
        "plt.ylabel('Frequency')\n",
        "plt.grid(True)\n",
        "plt.tight_layout()\n",
        "plt.show()"
      ],
      "metadata": {
        "id": "kuRf4wtuphqN"
      },
      "execution_count": null,
      "outputs": []
    },
    {
      "cell_type": "markdown",
      "source": [
        "##### 1. Why did you pick the specific chart?"
      ],
      "metadata": {
        "id": "bbFf2-_FphqN"
      }
    },
    {
      "cell_type": "markdown",
      "source": [
        "I chose a histogram to visualize how often the stock’s closing price changes by certain percentages. It’s perfect for spotting how volatile the stock is day to day."
      ],
      "metadata": {
        "id": "loh7H2nzphqN"
      }
    },
    {
      "cell_type": "markdown",
      "source": [
        "##### 2. What is/are the insight(s) found from the chart?"
      ],
      "metadata": {
        "id": "_ouA3fa0phqN"
      }
    },
    {
      "cell_type": "markdown",
      "source": [
        "Most daily changes are small, clustering around 0%, meaning the stock is usually stable.\n",
        "A few days show big positive or negative changes, pointing to high-risk or high-impact events."
      ],
      "metadata": {
        "id": "VECbqPI7phqN"
      }
    },
    {
      "cell_type": "markdown",
      "source": [
        "##### 3. Will the gained insights help creating a positive business impact?\n",
        "Are there any insights that lead to negative growth? Justify with specific reason."
      ],
      "metadata": {
        "id": "Seke61FWphqN"
      }
    },
    {
      "cell_type": "markdown",
      "source": [
        "Helps investors understand risk and set expectations for daily price swings.\n",
        "\n",
        "The long tail on the left side indicates days with large percentage drops, often caused by bad news."
      ],
      "metadata": {
        "id": "DW4_bGpfphqN"
      }
    },
    {
      "cell_type": "markdown",
      "source": [
        "#### Chart - 7"
      ],
      "metadata": {
        "id": "PIIx-8_IphqN"
      }
    },
    {
      "cell_type": "code",
      "source": [
        "# Chart - 7 visualization code\n",
        "#Stock Trend (Area Chart)\n",
        "plt.figure(figsize=(12, 6))\n",
        "df[\"Close\"].plot(kind=\"area\",color=\"maroon\")\n",
        "plt.title(\"Stock Trend (Area Chart)\")\n",
        "plt.xlabel(\"Date\")\n",
        "plt.ylabel(\"Closing Price\")\n",
        "plt.show()"
      ],
      "metadata": {
        "id": "lqAIGUfyphqO"
      },
      "execution_count": null,
      "outputs": []
    },
    {
      "cell_type": "markdown",
      "source": [
        "##### 1. Why did you pick the specific chart?"
      ],
      "metadata": {
        "id": "t27r6nlMphqO"
      }
    },
    {
      "cell_type": "markdown",
      "source": [
        "An area chart was chosen because it effectively represents the trend of closing prices over time while also highlighting the magnitude of changes.\n",
        "\n",
        "The filled area provides a clear visual of stock fluctuations, making it easy to spot trends, peaks, and dips.\n",
        "\n",
        "This chart is useful for identifying long-term patterns, such as uptrends, downtrends, and periods of stability."
      ],
      "metadata": {
        "id": "iv6ro40sphqO"
      }
    },
    {
      "cell_type": "markdown",
      "source": [
        "##### 2. What is/are the insight(s) found from the chart?"
      ],
      "metadata": {
        "id": "r2jJGEOYphqO"
      }
    },
    {
      "cell_type": "markdown",
      "source": [
        "The general trend of the stock price is visible—whether it is increasing, decreasing, or fluctuating.\n",
        "\n",
        "If the area steadily rises, it suggests positive growth and strong investor confidence. A declining area may indicate a bearish trend, meaning the stock is losing value over time.\n",
        "\n",
        "If the chart shows high volatility with frequent peaks and dips, it suggests market instability or speculative trading activity."
      ],
      "metadata": {
        "id": "Po6ZPi4hphqO"
      }
    },
    {
      "cell_type": "markdown",
      "source": [
        "##### 3. Will the gained insights help creating a positive business impact?\n",
        "Are there any insights that lead to negative growth? Justify with specific reason."
      ],
      "metadata": {
        "id": "b0JNsNcRphqO"
      }
    },
    {
      "cell_type": "markdown",
      "source": [
        "Positive Impact:\n",
        "\n",
        "If the stock is in an uptrend, it reassures investors and encourages further investment. Recognizing long-term trends helps businesses and traders make informed investment decisions.\n",
        "\n",
        "Negative Growth Insights:\n",
        "\n",
        "A continuous downward trend signals declining investor confidence, possibly leading to lower market valuation. High volatility without a clear trend can indicate market uncertainty, making it risky for long-term investors."
      ],
      "metadata": {
        "id": "xvSq8iUTphqO"
      }
    },
    {
      "cell_type": "markdown",
      "source": [
        "#### Chart - 8"
      ],
      "metadata": {
        "id": "BZR9WyysphqO"
      }
    },
    {
      "cell_type": "code",
      "source": [
        "# Chart - 8 visualization code\n",
        "#price spread for distribution of prices\n",
        "plt.figure(figsize=(12, 8))\n",
        "sns.violinplot(data=df[[\"Open\", \"High\", \"Low\", \"Close\"]])\n",
        "plt.title(\"Price Spread (Violin Plot)\")\n",
        "plt.ylabel(\"Price\")\n",
        "plt.show()"
      ],
      "metadata": {
        "id": "TdPTWpAVphqO"
      },
      "execution_count": null,
      "outputs": []
    },
    {
      "cell_type": "markdown",
      "source": [
        "##### 1. Why did you pick the specific chart?"
      ],
      "metadata": {
        "id": "jj7wYXLtphqO"
      }
    },
    {
      "cell_type": "markdown",
      "source": [
        "This violin plot was chosen because it combines the benefits of a box plot and a density plot, allowing us to see both the distribution and spread of stock prices (Open, High, Low, Close).\n",
        "\n",
        "It provides insights into price variation, volatility, and the probability density of stock prices, helping investors understand how prices are distributed.\n",
        "\n",
        "Unlike a box plot, a violin plot also shows the shape of the distribution, making it easier to detect multimodal distributions (multiple peaks)."
      ],
      "metadata": {
        "id": "Ob8u6rCTphqO"
      }
    },
    {
      "cell_type": "markdown",
      "source": [
        "##### 2. What is/are the insight(s) found from the chart?"
      ],
      "metadata": {
        "id": "eZrbJ2SmphqO"
      }
    },
    {
      "cell_type": "markdown",
      "source": [
        "The width of the violin plot at different price levels represents the frequency of price occurrences.\n",
        "\n",
        "A wider section means prices frequently stay around that value, while a narrower section indicates fewer occurrences.\n",
        "\n",
        "If the distributions for Open, High, Low, and Close prices differ significantly, it suggests high volatility in stock performance.\n",
        "\n",
        "The presence of long tails indicates extreme values or outliers, suggesting significant price swings on certain days."
      ],
      "metadata": {
        "id": "mZtgC_hjphqO"
      }
    },
    {
      "cell_type": "markdown",
      "source": [
        "##### 3. Will the gained insights help creating a positive business impact?\n",
        "Are there any insights that lead to negative growth? Justify with specific reason."
      ],
      "metadata": {
        "id": "rFu4xreNphqO"
      }
    },
    {
      "cell_type": "markdown",
      "source": [
        "Positive Impact:\n",
        "\n",
        "Helps traders understand how stock prices fluctuate, allowing them to adjust their strategies.\n",
        "\n",
        "If the violin plot is narrow and concentrated, it indicates stable price movements, which is reassuring for investors.\n",
        "\n",
        "Negative Growth Insights:\n",
        "\n",
        "If the violin plot shows high variability with long tails, it suggests unpredictability and high risk, discouraging risk-averse investors. A very asymmetrical distribution in Open vs. Close prices may indicate a bearish or highly speculative market."
      ],
      "metadata": {
        "id": "ey_0qi68phqO"
      }
    },
    {
      "cell_type": "markdown",
      "source": [
        "#### Chart - 9"
      ],
      "metadata": {
        "id": "YJ55k-q6phqO"
      }
    },
    {
      "cell_type": "code",
      "source": [
        "# Chart - 9 visualization code\n",
        "# Closing PriceDensity (KDE)\n",
        "sns.kdeplot(df[\"Close\"],fill=True,color=\"green\",edgecolor=\"black\")\n",
        "plt.title(\"Closing Price Density (KDE)\")\n",
        "plt.xlabel(\"Closing Price\")\n",
        "plt.show()"
      ],
      "metadata": {
        "id": "B2aS4O1ophqO"
      },
      "execution_count": null,
      "outputs": []
    },
    {
      "cell_type": "markdown",
      "source": [
        "##### 1. Why did you pick the specific chart?"
      ],
      "metadata": {
        "id": "gCFgpxoyphqP"
      }
    },
    {
      "cell_type": "markdown",
      "source": [
        "A Kernel Density Estimate (KDE) plot was chosen because it provides a smooth distribution of closing prices over time.\n",
        "\n",
        "Unlike a histogram, a KDE plot avoids issues with bin size selection, offering a clearer view of how frequently different prices occur.\n",
        "\n",
        "It helps in identifying the most common closing prices, peaks in the data, and overall price trends"
      ],
      "metadata": {
        "id": "TVxDimi2phqP"
      }
    },
    {
      "cell_type": "markdown",
      "source": [
        "##### 2. What is/are the insight(s) found from the chart?"
      ],
      "metadata": {
        "id": "OVtJsKN_phqQ"
      }
    },
    {
      "cell_type": "markdown",
      "source": [
        "The peak(s) in the KDE plot indicate price levels where the stock frequently closes, suggesting areas of support or resistance.\n",
        "\n",
        "A wide spread suggests high volatility, while a narrow, tall distribution indicates stability in stock performance.\n",
        "\n",
        "If the KDE is right-skewed (long tail on the right), it indicates occasional high closing prices, possibly due to sudden rallies.\n",
        "\n",
        "If the KDE is left-skewed, it suggests more frequent lower closing prices, indicating bearish market trends."
      ],
      "metadata": {
        "id": "ngGi97qjphqQ"
      }
    },
    {
      "cell_type": "markdown",
      "source": [
        "##### 3. Will the gained insights help creating a positive business impact?\n",
        "Are there any insights that lead to negative growth? Justify with specific reason."
      ],
      "metadata": {
        "id": "lssrdh5qphqQ"
      }
    },
    {
      "cell_type": "markdown",
      "source": [
        "Positive Impact:\n",
        "\n",
        "Identifying common closing price ranges helps traders make informed buy/sell decisions. Recognizing price concentration areas can help investors set realistic entry and exit points.\n",
        "\n",
        "Negative Growth Insights:\n",
        "\n",
        "If the KDE plot shows multiple peaks, it may indicate an unstable stock with erratic price behavior, discouraging long-term investment. A left-skewed distribution may suggest a declining stock trend, which could reduce investor confidence."
      ],
      "metadata": {
        "id": "tBpY5ekJphqQ"
      }
    },
    {
      "cell_type": "markdown",
      "source": [
        "#### Chart - 10"
      ],
      "metadata": {
        "id": "U2RJ9gkRphqQ"
      }
    },
    {
      "cell_type": "code",
      "source": [
        "# Chart - 10 visualization code\n",
        "#Five month moving Average\n",
        "df[\"Close\"].rolling(window=5).mean().plot(label=\"5-Month MA\", color=\"black\")\n",
        "df[\"Close\"].plot(alpha=0.6,color=\"red\")\n",
        "plt.legend()\n",
        "plt.title(\"5-Month Moving Average\")\n",
        "plt.xlabel(\"Date\")\n",
        "plt.ylabel(\"Closing Price\")\n",
        "plt.show()"
      ],
      "metadata": {
        "id": "GM7a4YP4phqQ"
      },
      "execution_count": null,
      "outputs": []
    },
    {
      "cell_type": "markdown",
      "source": [
        "##### 1. Why did you pick the specific chart?"
      ],
      "metadata": {
        "id": "1M8mcRywphqQ"
      }
    },
    {
      "cell_type": "markdown",
      "source": [
        "This line chart with a moving average overlay was chosen because it helps identify trends in closing prices while smoothing out short-term fluctuations.\n",
        "\n",
        "The 5-month moving average (MA) provides a clearer view of the stock's general direction, reducing noise from daily price changes.\n",
        "\n",
        "This is a useful trend-following indicator that helps investors and traders assess the momentum and stability of the stock."
      ],
      "metadata": {
        "id": "8agQvks0phqQ"
      }
    },
    {
      "cell_type": "markdown",
      "source": [
        "##### 2. What is/are the insight(s) found from the chart?"
      ],
      "metadata": {
        "id": "tgIPom80phqQ"
      }
    },
    {
      "cell_type": "markdown",
      "source": [
        "If the moving average is sloping upward, it indicates a bullish trend, meaning the stock price is generally increasing.\n",
        "\n",
        "A downward-sloping MA suggests a bearish trend, meaning the stock is losing value over time.\n",
        "\n",
        "If the closing price consistently stays above the moving average, it signals strong market sentiment and potential price growth.\n",
        "\n",
        "If the price crosses below the moving average, it may indicate a trend reversal or weakening stock momentum."
      ],
      "metadata": {
        "id": "Qp13pnNzphqQ"
      }
    },
    {
      "cell_type": "markdown",
      "source": [
        "##### 3. Will the gained insights help creating a positive business impact?\n",
        "Are there any insights that lead to negative growth? Justify with specific reason."
      ],
      "metadata": {
        "id": "JMzcOPDDphqR"
      }
    },
    {
      "cell_type": "markdown",
      "source": [
        "Positive Impact:\n",
        "\n",
        "Identifying trend direction allows investors to make informed decisions about buying, holding, or selling the stock. A sustained upward trend boosts investor confidence, leading to more capital inflow into the stock.\n",
        "\n",
        "Negative Growth Insights:\n",
        "\n",
        "If the stock price is consistently below the moving average, it suggests weak momentum and declining investor confidence. Frequent crossovers (price moving above and below the MA) indicate high volatility, making it difficult for investors to predict future trends reliably."
      ],
      "metadata": {
        "id": "R4Ka1PC2phqR"
      }
    },
    {
      "cell_type": "markdown",
      "source": [
        "#### Chart - 11"
      ],
      "metadata": {
        "id": "x-EpHcCOp1ci"
      }
    },
    {
      "cell_type": "code",
      "source": [
        "# Chart - 11 visualization code\n",
        "#outliers in closing price\n",
        "plt.figure(figsize=(8, 6))\n",
        "sns.boxplot(y=df[\"Close\"],color=\"green\")\n",
        "plt.title(\"Outliers in Closing Prices\")\n",
        "plt.ylabel(\"Closing Price\")\n",
        "plt.show()"
      ],
      "metadata": {
        "id": "mAQTIvtqp1cj"
      },
      "execution_count": null,
      "outputs": []
    },
    {
      "cell_type": "markdown",
      "source": [
        "##### 1. Why did you pick the specific chart?"
      ],
      "metadata": {
        "id": "X_VqEhTip1ck"
      }
    },
    {
      "cell_type": "markdown",
      "source": [
        "This box plot was chosen because it is one of the best ways to identify outliers and understand the distribution of closing prices.\n",
        "\n",
        "It provides key statistical insights such as minimum, first quartile (Q1), median, third quartile (Q3), and maximum values, helping to assess price variations.\n",
        "\n",
        "The presence of outliers (data points outside the whiskers) can indicate unusual price movements due to extreme market events."
      ],
      "metadata": {
        "id": "-vsMzt_np1ck"
      }
    },
    {
      "cell_type": "markdown",
      "source": [
        "##### 2. What is/are the insight(s) found from the chart?"
      ],
      "metadata": {
        "id": "8zGJKyg5p1ck"
      }
    },
    {
      "cell_type": "markdown",
      "source": [
        "If there are outliers above the upper whisker, it suggests spikes in stock price, which could be due to positive news, earnings reports, or strong market performance.\n",
        "\n",
        "If there are outliers below the lower whisker, it signals sharp price drops, possibly due to market crashes, poor earnings, or negative sentiment.\n",
        "\n",
        "A narrow interquartile range (IQR) indicates low volatility, while a wide IQR suggests high price fluctuations over time.\n",
        "\n",
        "The median position in the box helps understand whether the stock tends to stay in the upper or lower price range."
      ],
      "metadata": {
        "id": "ZYdMsrqVp1ck"
      }
    },
    {
      "cell_type": "markdown",
      "source": [
        "##### 3. Will the gained insights help creating a positive business impact?\n",
        "Are there any insights that lead to negative growth? Justify with specific reason."
      ],
      "metadata": {
        "id": "PVzmfK_Ep1ck"
      }
    },
    {
      "cell_type": "markdown",
      "source": [
        "Positive Impact:\n",
        "\n",
        "Identifying outliers helps investors understand abnormal price movements, allowing them to anticipate market shifts.\n",
        "\n",
        "If the majority of prices fall within a stable range, it boosts investor confidence by showing low volatility.\n",
        "\n",
        "Negative Growth Insights:\n",
        "\n",
        "A high number of downward outliers could indicate frequent crashes, discouraging investors from holding long-term positions.\n",
        "\n",
        "If the stock price shows extreme variability, it suggests market uncertainty, which can lead to lower investor trust and speculative trading."
      ],
      "metadata": {
        "id": "druuKYZpp1ck"
      }
    },
    {
      "cell_type": "markdown",
      "source": [
        "#### Chart - 12"
      ],
      "metadata": {
        "id": "n3dbpmDWp1ck"
      }
    },
    {
      "cell_type": "code",
      "source": [
        "# Chart - 12 visualization code\n",
        "#Monthly return chart bar\n",
        "df[\"Monthly Return\"] = df[\"Close\"].pct_change() * 100\n",
        "plt.figure(figsize=(12, 6))\n",
        "sns.barplot(x=df.index.strftime('%b-%y'), y=df[\"Monthly Return\"],color=\"red\")\n",
        "plt.xticks(ticks=range(0, len(df), 12), labels=df.index.strftime('%b-%Y')[::12])\n",
        "plt.title(\"Monthly Returns (%)\")\n",
        "plt.xlabel(\"Month-Year\")\n",
        "plt.ylabel(\"Return (%)\")\n",
        "plt.xticks(rotation=90)\n",
        "plt.show()"
      ],
      "metadata": {
        "id": "bwevp1tKp1ck"
      },
      "execution_count": null,
      "outputs": []
    },
    {
      "cell_type": "markdown",
      "source": [
        "##### 1. Why did you pick the specific chart?"
      ],
      "metadata": {
        "id": "ylSl6qgtp1ck"
      }
    },
    {
      "cell_type": "markdown",
      "source": [
        "This bar chart was chosen because it effectively displays the monthly return percentages over time, making it easy to compare performance across different months.\n",
        "\n",
        "This visualization helps identify periods of strong growth and decline, revealing seasonal trends or significant market movements.\n",
        "\n",
        "The use of percentage changes (rather than absolute values) allows for a better understanding of relative stock performance."
      ],
      "metadata": {
        "id": "m2xqNkiQp1ck"
      }
    },
    {
      "cell_type": "markdown",
      "source": [
        "##### 2. What is/are the insight(s) found from the chart?"
      ],
      "metadata": {
        "id": "ZWILFDl5p1ck"
      }
    },
    {
      "cell_type": "markdown",
      "source": [
        "Months with high positive returns indicate strong stock performance, possibly due to market optimism, earnings reports, or external factors.\n",
        "\n",
        "Months with negative returns highlight downturns, which may be caused by economic conditions, company-specific issues, or broader market trends.\n",
        "\n",
        "If the returns fluctuate significantly, it suggests high volatility, which could be risky for investors. A pattern of consistent positive or negative returns can indicate a long-term trend in the stock's performance."
      ],
      "metadata": {
        "id": "x-lUsV2mp1ck"
      }
    },
    {
      "cell_type": "markdown",
      "source": [
        "##### 3. Will the gained insights help creating a positive business impact?\n",
        "Are there any insights that lead to negative growth? Justify with specific reason."
      ],
      "metadata": {
        "id": "M7G43BXep1ck"
      }
    },
    {
      "cell_type": "markdown",
      "source": [
        "Positive Impact:\n",
        "\n",
        "Understanding which months tend to perform well can help investors time their buying and selling decisions strategically.\n",
        "\n",
        "If the company identifies reasons for strong months, it can use that insight to optimize business operations or marketing strategies.\n",
        "\n",
        "Negative Growth Insights:\n",
        "\n",
        "A trend of declining monthly returns suggests weakening stock performance, possibly leading to a loss of investor confidence.\n",
        "\n",
        "High volatility in monthly returns may discourage risk-averse investors, making it harder to attract stable long-term investments."
      ],
      "metadata": {
        "id": "5wwDJXsLp1cl"
      }
    },
    {
      "cell_type": "markdown",
      "source": [
        "#### Chart - 13"
      ],
      "metadata": {
        "id": "Ag9LCva-p1cl"
      }
    },
    {
      "cell_type": "code",
      "source": [
        "# Chart - 13 visualization code\n",
        "#Autocorrelation Plot (Stock Price Dependencies)\n",
        "plt.figure(figsize=(12, 6))\n",
        "pd.plotting.autocorrelation_plot(df[\"Close\"])\n",
        "plt.title(\"Autocorrelation of Closing Prices\")\n",
        "plt.show()"
      ],
      "metadata": {
        "id": "EUfxeq9-p1cl"
      },
      "execution_count": null,
      "outputs": []
    },
    {
      "cell_type": "markdown",
      "source": [
        "##### 1. Why did you pick the specific chart?"
      ],
      "metadata": {
        "id": "E6MkPsBcp1cl"
      }
    },
    {
      "cell_type": "markdown",
      "source": [
        "An autocorrelation plot was chosen because it helps analyze the relationship between a stock’s closing prices over time.\n",
        "\n",
        "It shows how past prices influence future prices, which is crucial for trend analysis and forecasting.\n",
        "\n",
        "This type of chart helps identify seasonal trends, momentum, or mean-reverting behavior in stock prices."
      ],
      "metadata": {
        "id": "V22bRsFWp1cl"
      }
    },
    {
      "cell_type": "markdown",
      "source": [
        "##### 2. What is/are the insight(s) found from the chart?"
      ],
      "metadata": {
        "id": "2cELzS2fp1cl"
      }
    },
    {
      "cell_type": "markdown",
      "source": [
        "High positive autocorrelation at short lags (e.g., 1–5 days) suggests strong momentum, meaning past prices have a significant impact on future prices.\n",
        "\n",
        "Low or negative autocorrelation indicates that price changes are more random, making predictions harder.\n",
        "\n",
        "If periodic peaks appear, it could signal seasonal trends, where prices follow a recurring pattern over weeks or months.\n",
        "\n",
        "A gradual decline in autocorrelation suggests that past trends fade over time, meaning price movements are less predictable as the time gap increases."
      ],
      "metadata": {
        "id": "ozQPc2_Ip1cl"
      }
    },
    {
      "cell_type": "markdown",
      "source": [
        "##### 3. Will the gained insights help creating a positive business impact?\n",
        "Are there any insights that lead to negative growth? Justify with specific reason."
      ],
      "metadata": {
        "id": "3MPXvC8up1cl"
      }
    },
    {
      "cell_type": "markdown",
      "source": [
        "Positive Impact:\n",
        "\n",
        "If autocorrelation is high, traders can use trend-following strategies to profit from momentum.\n",
        "\n",
        "Identifying seasonal cycles helps businesses and investors time their trades more effectively.\n",
        "\n",
        "Negative Growth Insights:\n",
        "\n",
        "If the stock shows no autocorrelation, it suggests a highly unpredictable price pattern, making it risky for long-term investors.\n",
        "\n",
        "A sudden drop in autocorrelation may indicate market instability, causing uncertainty and reducing investor confidence."
      ],
      "metadata": {
        "id": "GL8l1tdLp1cl"
      }
    },
    {
      "cell_type": "markdown",
      "source": [
        "#### Chart - 14 - Correlation Heatmap"
      ],
      "metadata": {
        "id": "NC_X3p0fY2L0"
      }
    },
    {
      "cell_type": "code",
      "source": [
        "# Correlation Heatmap visualization code\n",
        "plt.figure(figsize=(8, 6))\n",
        "sns.heatmap(df.corr(), annot=True, cmap=\"coolwarm\", fmt=\".2f\", linewidths=0.5)\n",
        "plt.title(\"Correlation Heatmap of Stock Prices\")\n",
        "plt.show()"
      ],
      "metadata": {
        "id": "xyC9zolEZNRQ"
      },
      "execution_count": null,
      "outputs": []
    },
    {
      "cell_type": "markdown",
      "source": [
        "##### 1. Why did you pick the specific chart?"
      ],
      "metadata": {
        "id": "UV0SzAkaZNRQ"
      }
    },
    {
      "cell_type": "markdown",
      "source": [
        "A correlation heatmap was chosen because it provides a clear visual representation of the relationships between different stock price attributes (Open, High, Low, Close, Volume, etc.).\n",
        "\n",
        "It helps identify strong positive or negative correlations, allowing for better analysis of how different factors influence stock price movements. The color gradient makes it easier to spot patterns compared to a traditional correlation matrix."
      ],
      "metadata": {
        "id": "DVPuT8LYZNRQ"
      }
    },
    {
      "cell_type": "markdown",
      "source": [
        "##### 2. What is/are the insight(s) found from the chart?"
      ],
      "metadata": {
        "id": "YPEH6qLeZNRQ"
      }
    },
    {
      "cell_type": "markdown",
      "source": [
        "A high correlation (close to +1) between Open, High, Low, and Close prices indicates that these variables move together, meaning the stock follows a predictable intraday price pattern.\n",
        "\n",
        "A negative correlation (close to -1) with volume could suggest that price increases when trading volume is low, or vice versa.\n",
        "\n",
        "A weak correlation (close to 0) between volume and closing price indicates that trading activity does not directly impact price changes.\n",
        "\n",
        "If High and Close prices are almost perfectly correlated, it means the stock often closes near its daily high, which suggests bullish sentiment in the market."
      ],
      "metadata": {
        "id": "bfSqtnDqZNRR"
      }
    },
    {
      "cell_type": "markdown",
      "source": [
        "#### Chart - 15 - Pair Plot"
      ],
      "metadata": {
        "id": "q29F0dvdveiT"
      }
    },
    {
      "cell_type": "code",
      "source": [
        "# Pair Plot visualization code\n",
        "plt.figure(figsize=(12, 8),)\n",
        "sns.pairplot(df[[\"Open\", \"High\", \"Low\", \"Close\"]],)\n",
        "plt.show()"
      ],
      "metadata": {
        "id": "o58-TEIhveiU"
      },
      "execution_count": null,
      "outputs": []
    },
    {
      "cell_type": "markdown",
      "source": [
        "##### 1. Why did you pick the specific chart?"
      ],
      "metadata": {
        "id": "EXh0U9oCveiU"
      }
    },
    {
      "cell_type": "markdown",
      "source": [
        "This pairplot was chosen because it provides a detailed overview of relationships between multiple numerical variables (Open, High, Low, Close).\n",
        "\n",
        "It helps visualize scatter plots for each pair of variables and their distribution in a diagonal histogram.\n",
        "\n",
        "This allows for spotting linear relationships, clusters, and potential anomalies in stock price movements."
      ],
      "metadata": {
        "id": "eMmPjTByveiU"
      }
    },
    {
      "cell_type": "markdown",
      "source": [
        "##### 2. What is/are the insight(s) found from the chart?"
      ],
      "metadata": {
        "id": "22aHeOlLveiV"
      }
    },
    {
      "cell_type": "markdown",
      "source": [
        "Strong positive relationships between Open, High, Low, and Close prices indicate that these variables move together, which is expected in stock price behavior.\n",
        "\n",
        "The scatter plots can reveal price trends, such as whether higher opening prices tend to lead to higher closing prices.\n",
        "\n",
        "Non-linear relationships or clusters may indicate periods of volatility or shifts in market behavior.\n",
        "\n",
        "The diagonal histograms show the distribution of each variable, highlighting whether prices follow a normal distribution or have skewness."
      ],
      "metadata": {
        "id": "uPQ8RGwHveiV"
      }
    },
    {
      "cell_type": "markdown",
      "source": [
        "## ***5. Hypothesis Testing***"
      ],
      "metadata": {
        "id": "g-ATYxFrGrvw"
      }
    },
    {
      "cell_type": "markdown",
      "source": [
        "### Based on your chart experiments, define three hypothetical statements from the dataset. In the next three questions, perform hypothesis testing to obtain final conclusion about the statements through your code and statistical testing."
      ],
      "metadata": {
        "id": "Yfr_Vlr8HBkt"
      }
    },
    {
      "cell_type": "markdown",
      "source": [
        "Answer Here."
      ],
      "metadata": {
        "id": "-7MS06SUHkB-"
      }
    },
    {
      "cell_type": "markdown",
      "source": [
        "### Hypothetical Statement - 1"
      ],
      "metadata": {
        "id": "8yEUt7NnHlrM"
      }
    },
    {
      "cell_type": "markdown",
      "source": [
        "#### 1. State Your research hypothesis as a null hypothesis and alternate hypothesis."
      ],
      "metadata": {
        "id": "tEA2Xm5dHt1r"
      }
    },
    {
      "cell_type": "markdown",
      "source": [
        "Answer Here.My first hypothesis for this YEs bank dataset is “If the stock opens high, it probably closes high too.\"\n",
        "\n",
        "H0: There is no linear relationship between the opening and closing prices of the stock.\n",
        "\n",
        "H1: There is a linear relationship between the opening and closing prices of the stock."
      ],
      "metadata": {
        "id": "HI9ZP0laH0D-"
      }
    },
    {
      "cell_type": "markdown",
      "source": [
        "#### 2. Perform an appropriate statistical test."
      ],
      "metadata": {
        "id": "I79__PHVH19G"
      }
    },
    {
      "cell_type": "code",
      "source": [
        "# Perform Statistical Test to obtain P-Value\n",
        "from scipy.stats import pearsonr\n",
        "df_clean = df[['Open', 'Close']].dropna()\n",
        "\n",
        "#Perform Pearson correlation test\n",
        "correlation, p_value = pearsonr(df_clean['Open'], df_clean['Close'])\n",
        "\n",
        "# Print the results\n",
        "print(\"Pearson Correlation Coefficient (r):\", correlation)\n",
        "print(\" P-value:\", p_value)\n",
        "\n",
        "# Interpret the result\n",
        "a= 0.05\n",
        "if p_value < a:\n",
        "    print(\" P-value is less than 0.05 → Reject the null hypothesis.\")\n",
        "    print(\"Conclusion: There is a statistically significant linear relationship between Open and Close prices.\")\n",
        "else:\n",
        "    print(\" P-value is greater than 0.05 → Fail to reject the null hypothesis.\")\n",
        "    print(\"Conclusion: No significant linear relationship between Open and Close prices.\")\n"
      ],
      "metadata": {
        "id": "oZrfquKtyian"
      },
      "execution_count": null,
      "outputs": []
    },
    {
      "cell_type": "markdown",
      "source": [
        "##### Which statistical test have you done to obtain P-Value?"
      ],
      "metadata": {
        "id": "Ou-I18pAyIpj"
      }
    },
    {
      "cell_type": "markdown",
      "source": [
        "Pearson Correlation Coefficient Test was used."
      ],
      "metadata": {
        "id": "s2U0kk00ygSB"
      }
    },
    {
      "cell_type": "markdown",
      "source": [
        "##### Why did you choose the specific statistical test?"
      ],
      "metadata": {
        "id": "fF3858GYyt-u"
      }
    },
    {
      "cell_type": "markdown",
      "source": [
        "Because it checks clearly the linar realationship between Two continuos variables."
      ],
      "metadata": {
        "id": "HO4K0gP5y3B4"
      }
    },
    {
      "cell_type": "markdown",
      "source": [
        "### Hypothetical Statement - 2"
      ],
      "metadata": {
        "id": "4_0_7-oCpUZd"
      }
    },
    {
      "cell_type": "markdown",
      "source": [
        "#### 1. State Your research hypothesis as a null hypothesis and alternate hypothesis."
      ],
      "metadata": {
        "id": "hwyV_J3ipUZe"
      }
    },
    {
      "cell_type": "markdown",
      "source": [
        "“There must have been a few months where the stock price either shot up or crashed badly — I can feel the volatility.”\n",
        "\n",
        "H0:\tMonthly returns are consistent and not highly variable (low volatility)\n",
        "\n",
        "H1:\tMonthly returns show significant variability (high volatility)"
      ],
      "metadata": {
        "id": "FnpLGJ-4pUZe"
      }
    },
    {
      "cell_type": "markdown",
      "source": [
        "#### 2. Perform an appropriate statistical test."
      ],
      "metadata": {
        "id": "3yB-zSqbpUZe"
      }
    },
    {
      "cell_type": "code",
      "source": [
        "# Perform Statistical Test to obtain P-Value\n",
        "# Calculate Monthly Returns\n",
        "from scipy.stats import ttest_1samp\n",
        "df['Monthly Return'] = df['Close'].pct_change() * 100\n",
        "\n",
        "# Drop missing values\n",
        "returns = df['Monthly Return'].dropna()\n",
        "\n",
        "# Perform a One-Sample T-test\n",
        "t_stat, p_value = ttest_1samp(returns, 0)\n",
        "\n",
        "# Display results\n",
        "print(\"T-Statistic:\", t_stat)\n",
        "print(\"P-Value:\", p_value)\n",
        "\n",
        "# Interpret the result\n",
        "a = 0.05\n",
        "if p_value < a:\n",
        "    print(\"P-value < 0.05 → Reject the null hypothesis.\")\n",
        "    print(\"Conclusion: The monthly returns are significantly volatile.\")\n",
        "else:\n",
        "    print(\"P-value ≥ 0.05 → Fail to reject the null hypothesis.\")\n",
        "    print(\"Conclusion: There is no significant volatility in the monthly returns.\")\n"
      ],
      "metadata": {
        "id": "sWxdNTXNpUZe"
      },
      "execution_count": null,
      "outputs": []
    },
    {
      "cell_type": "markdown",
      "source": [
        "##### Which statistical test have you done to obtain P-Value?"
      ],
      "metadata": {
        "id": "dEUvejAfpUZe"
      }
    },
    {
      "cell_type": "markdown",
      "source": [
        "I have performed a One-Sample T-Test using the scipy.stats.ttest_1samp() function."
      ],
      "metadata": {
        "id": "oLDrPz7HpUZf"
      }
    },
    {
      "cell_type": "markdown",
      "source": [
        "##### Why did you choose the specific statistical test?"
      ],
      "metadata": {
        "id": "Fd15vwWVpUZf"
      }
    },
    {
      "cell_type": "markdown",
      "source": [
        "I wanted to check if YES Bank's monthly returns are actually fluctuating a lot, or if they’re just hovering around the same average.\n",
        "\n",
        "So I used a t-test to see if the average return is meaningfully different from zero.\n",
        "\n",
        "If it’s far from zero, that tells me the stock is volatile — meaning investors could see big gains or losses instead of stable performance."
      ],
      "metadata": {
        "id": "4xOGYyiBpUZf"
      }
    },
    {
      "cell_type": "markdown",
      "source": [
        "### Hypothetical Statement - 3"
      ],
      "metadata": {
        "id": "bn_IUdTipZyH"
      }
    },
    {
      "cell_type": "markdown",
      "source": [
        "#### 1. State Your research hypothesis as a null hypothesis and alternate hypothesis."
      ],
      "metadata": {
        "id": "49K5P_iCpZyH"
      }
    },
    {
      "cell_type": "markdown",
      "source": [
        "My third Hypothesis is “I feel like most of the time, YES Bank’s closing price stayed within a regular range — but there were a few times where the price spiked really high or crashed really low.”\n",
        "\n",
        "H0: There are no significant outliers in the closing prices\n",
        "\n",
        "H1:There are significant outliers in the closing prices."
      ],
      "metadata": {
        "id": "7gWI5rT9pZyH"
      }
    },
    {
      "cell_type": "markdown",
      "source": [
        "#### 2. Perform an appropriate statistical test."
      ],
      "metadata": {
        "id": "Nff-vKELpZyI"
      }
    },
    {
      "cell_type": "code",
      "source": [
        "# Perform Statistical Test to obtain P-Value\n",
        "from scipy.stats import zscore, norm\n",
        "\n",
        "# Step 1: Calculate Z-scores for Closing Price\n",
        "df['Z_Close'] = zscore(df['Close'])\n",
        "\n",
        "# Step 2: Calculate p-values (2-tailed)\n",
        "df['P_Value'] = 2 * (1 - norm.cdf(abs(df['Z_Close'])))\n",
        "\n",
        "# Step 3: Filter out outliers (p-value < 0.05)\n",
        "a = 0.05\n",
        "outliers = df[df['P_Value'] < a]\n",
        "\n",
        "# Step 4: Show results\n",
        "print(\"Total Outliers Detected:\", len(outliers))\n",
        "outliers[['Close', 'Z_Close', 'P_Value']].head()\n",
        "# Interpret the result\n",
        "a = 0.05\n",
        "if p_value < a:\n",
        "    print(\"P-value < 0.05 → Reject the null hypothesis.\")\n",
        "    print(\"Conclusion: There are no significant outliers in the closing prices\")\n",
        "else:\n",
        "    print(\"P-value ≥ 0.05 → Fail to reject the null hypothesis.\")\n",
        "    print(\"Conclusion: There are significant outliers in the closing prices.\")"
      ],
      "metadata": {
        "id": "s6AnJQjtpZyI"
      },
      "execution_count": null,
      "outputs": []
    },
    {
      "cell_type": "markdown",
      "source": [
        "##### Which statistical test have you done to obtain P-Value?"
      ],
      "metadata": {
        "id": "kLW572S8pZyI"
      }
    },
    {
      "cell_type": "markdown",
      "source": [
        "I performed a Z-test using the Z-score method to detect statistically significant outliers in the closing prices of YES Bank stock.Answer Here."
      ],
      "metadata": {
        "id": "ytWJ8v15pZyI"
      }
    },
    {
      "cell_type": "markdown",
      "source": [
        "##### Why did you choose the specific statistical test?"
      ],
      "metadata": {
        "id": "dWbDXHzopZyI"
      }
    },
    {
      "cell_type": "markdown",
      "source": [
        "I wanted to find out if any closing prices were unusually high or low compared to the rest of the data.\n",
        "\n",
        "The Z-test calculates how far each value is from the average.\n",
        "\n",
        "Then I used the p-value to measure how rare or extreme that value is under a normal distribution."
      ],
      "metadata": {
        "id": "M99G98V6pZyI"
      }
    },
    {
      "cell_type": "markdown",
      "source": [
        "## **5. Solution to Business Objective**"
      ],
      "metadata": {
        "id": "JcMwzZxoAimU"
      }
    },
    {
      "cell_type": "markdown",
      "source": [
        "#### What do you suggest the client to achieve Business Objective ?\n",
        "Explain Briefly."
      ],
      "metadata": {
        "id": "8G2x9gOozGDZ"
      }
    },
    {
      "cell_type": "markdown",
      "source": [
        "- Monitor Volatility and Outliers Regularly.\n",
        "- Track Monthly and Seasonal Trends.\n",
        "- Use Moving Averages for Trend Analysis.\n",
        "- Focus on Stability and Risk Zones.\n",
        "- Maintain a Clean and Structured Historical Data Repository"
      ],
      "metadata": {
        "id": "pASKb0qOza21"
      }
    },
    {
      "cell_type": "markdown",
      "source": [
        "# **Conclusion**"
      ],
      "metadata": {
        "id": "gCX9965dhzqZ"
      }
    },
    {
      "cell_type": "markdown",
      "source": [
        "In this data science project, I performed an in-depth **Exploratory Data Analysis (EDA)** on YES Bank's historical stock price data.\n",
        "\n",
        "Key steps included:\n",
        "- Cleaning and preparing the dataset\n",
        "- Creating over **15+ visualizations** to uncover trends, patterns, and anomalies in stock movement\n",
        "- Handling **missing values and outliers**\n",
        "- Extracting business-relevant insights from various charts such as line plots, box plots, violin plots, KDE, moving averages, and correlation heatmaps\n",
        "\n",
        "Through this analysis, I was able to:\n",
        "- Understand the **volatility and growth pattern** of YES Bank stock over time\n",
        "- Identify **significant outliers** and price fluctuations\n",
        "- Observe **monthly and yearly trends** that could help in future decision-making"
      ],
      "metadata": {
        "id": "PIP4ipD6c2XM"
      }
    },
    {
      "cell_type": "markdown",
      "source": [
        "Write the conclusion here."
      ],
      "metadata": {
        "id": "Fjb1IsQkh3yE"
      }
    },
    {
      "cell_type": "markdown",
      "source": [
        "### ***Hurrah! You have successfully completed your Data Science Capstone Project !!!***"
      ],
      "metadata": {
        "id": "gIfDvo9L0UH2"
      }
    }
  ]
}